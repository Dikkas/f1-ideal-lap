{
  "nbformat": 4,
  "nbformat_minor": 0,
  "metadata": {
    "colab": {
      "provenance": []
    },
    "kernelspec": {
      "name": "python3",
      "display_name": "Python 3"
    },
    "language_info": {
      "name": "python"
    }
  },
  "cells": [
    {
      "cell_type": "markdown",
      "source": [
        "# F1 Ideal Lap Analysis: Constructing the Fastest Possible Lap from Sector Times\n",
        "\n",
        "This project focuses on **Formula 1 qualifying data** collected using the **FastF1 Python library**.\n",
        "\n",
        "The primary goal is to determine the ***Ideal Lap*** for specific Grand Prix events, defined as the sum of the fastest Sector 1, Sector 2, and Sector 3 times recorded by *any* driver during a session. This allows us to answer the question: “What would the fastest possible lap look like if the best sector performances were combined into a single perfect lap?”\n",
        "\n",
        "\n",
        "### **Objectives**  \n",
        "\n",
        "- Collect and clean raw sector time data across all the circuits during the season.\n",
        "- Calculate the **Ideal Lap** time for each targeted event (the best theoretically possible lap).\n",
        "- Quantify and compare the Ideal Lap time against the **Actual Fastest Lap** achieved.\n",
        "- Provide insights into which drivers or teams demonstrated the strongest performance in specific sectors of the circuit.\n",
        "\n",
        "\n",
        "### **Data & Scope**  \n",
        "\n",
        "| Field | Detail |\n",
        "| :--- | :--- |\n",
        "| **Source** | **FastF1 Python API** (Official Formula 1 timing feeds) |\n",
        "| **Scope** | Selected **Qualifying Sessions** from chosen F1 season. |\n",
        "| **Key Variables** | Lap times, Sector 1, Sector 2, and Sector 3 times, Driver identification, Circuit details. |\n",
        "\n",
        "\n",
        "### **Information**  \n",
        "**Author:** Paulo Castro  \n",
        "**Date:** August 2025  \n",
        "**Tools:** Python (pandas, matplotlib, seaborn, FastF1)  \n",
        "\n",
        "---"
      ],
      "metadata": {
        "id": "7J4hkIBEYKk8"
      }
    },
    {
      "cell_type": "markdown",
      "source": [
        "## 1. Load and Inspect Data\n",
        "\n",
        "### 1.1 Initialization and Data Collection\n",
        "\n",
        "This section focuses on initializing the required libraries and defining the parameters for data collection. We use the **FastF1 API** to fetch data for the **entire `2021` season's qualifying sessions `(Q)`**. The data is iterated through each round, and key timing columns are extracted and aggregated into a single DataFrame for comprehensive analysis.\n",
        "\n",
        "The columns collected are: `Driver`, `LapTime`, `Sector1Time`, `Sector2Time`, `Sector3Time`, and `IsAccurate`. We also add `Year` and `Circuit` for context.\n"
      ],
      "metadata": {
        "id": "cf9W7xh8MJke"
      }
    },
    {
      "cell_type": "code",
      "source": [
        "# Install FastF1 (if not already installed)\n",
        "!pip install fastf1 --quiet"
      ],
      "metadata": {
        "id": "XiZQc-bIYPPR"
      },
      "execution_count": null,
      "outputs": []
    },
    {
      "cell_type": "code",
      "source": [
        "# Import necessary libraries\n",
        "import fastf1 as f1\n",
        "import pandas as pd\n",
        "import matplotlib.pyplot as plt\n",
        "import seaborn as sns"
      ],
      "metadata": {
        "id": "sHhyWTgNYli6"
      },
      "execution_count": null,
      "outputs": []
    },
    {
      "cell_type": "code",
      "source": [
        "# Parameters for data collection\n",
        "year= 2021\n",
        "session_type = \"Q\" # Qualifying\n",
        "\n",
        "all_data = []\n",
        "# Get the event schedule for the specified year excluding testing events\n",
        "schedule = f1.get_event_schedule(year, include_testing=False)\n",
        "\n",
        "# Iterate through all Grand Prix rounds and extract sector times\n",
        "for round_number  in schedule[\"RoundNumber\"]:\n",
        "  try:\n",
        "    session = f1.get_session(year, round_number , session_type)\n",
        "    # Load the session data, only laps needed, telemetry skipped for speed\n",
        "    session.load(laps=True, telemetry=False)\n",
        "    laps = session.laps\n",
        "\n",
        "    # Select and copy relevant columns\n",
        "    df = laps[['Driver', 'LapTime', 'Sector1Time', 'Sector2Time', 'Sector3Time', 'IsAccurate']].copy()\n",
        "    df['Year'] = year\n",
        "    # Extract the circuit name\n",
        "    df['Circuit'] = session.event['EventName']\n",
        "\n",
        "    all_data.append(df)\n",
        "\n",
        "  except Exception as e:\n",
        "     # Handle cases where session data might be unavailable\n",
        "    print(f\"Could not load data for Round {round_number}: {session.event['EventName']}. Error: {e}\")\n",
        "\n",
        "# Concatenate all individual DataFrames into a single one\n",
        "df_all = pd.concat(all_data, ignore_index=True)"
      ],
      "metadata": {
        "collapsed": true,
        "id": "4YcnG24gYqvt"
      },
      "execution_count": null,
      "outputs": []
    },
    {
      "cell_type": "markdown",
      "source": [
        "### 1.2 Initial Data Inspection: head(), shape, info()\n",
        "\n",
        "A quick inspection of the collected raw data is essential to understand its structure, size, and data types before proceeding to cleaning."
      ],
      "metadata": {
        "id": "6XvOba7ATjyx"
      }
    },
    {
      "cell_type": "code",
      "source": [
        "# View first rows\n",
        "print(\"Initial Data Sample:\")\n",
        "display(df_all.head())"
      ],
      "metadata": {
        "id": "Q54qjlJ1YxQM"
      },
      "execution_count": null,
      "outputs": []
    },
    {
      "cell_type": "code",
      "source": [
        "# Analyse Dataframe shape\n",
        "print(\"Dataframe Shape:\")\n",
        "print(df_all.shape)"
      ],
      "metadata": {
        "id": "pJtTpTjrTvP4"
      },
      "execution_count": null,
      "outputs": []
    },
    {
      "cell_type": "code",
      "source": [
        "# General Information and Data Types\n",
        "print(\"\\nGeneral Information:\")\n",
        "print(df_all.info())"
      ],
      "metadata": {
        "id": "b6-viFxvYyXB"
      },
      "execution_count": null,
      "outputs": []
    },
    {
      "cell_type": "markdown",
      "source": [
        "### 1.3 Descriptive Statistics\n",
        "\n",
        "To facilitate numerical analysis and statistics, the Timedelta columns (LapTime and all SectorTime columns) are converted to a common unit of seconds."
      ],
      "metadata": {
        "id": "aDA0vztDT8ux"
      }
    },
    {
      "cell_type": "code",
      "source": [
        "# Convert Timedelta to Seconds\n",
        "# Create a copy to avoid SettingWithCopyWarning\n",
        "df_sec = df_all.copy()\n",
        "\n",
        "# Convert time columns (timedelta) into total seconds for easier analysis\n",
        "for col in ['LapTime','Sector1Time','Sector2Time','Sector3Time']:\n",
        "    df_sec[col] = df_sec[col].dt.total_seconds()\n",
        "\n",
        "print(\"\\nDescriptive Statistics (in seconds):\")\n",
        "display(df_sec.describe())"
      ],
      "metadata": {
        "id": "MnnVCGfEZS6c"
      },
      "execution_count": null,
      "outputs": []
    },
    {
      "cell_type": "markdown",
      "source": [
        "### 1.4 Initial Assessment of Raw Data State\n",
        "Based on the `info()` and `describe()` outputs, the raw data presents several issues that need to be addressed in the subsequent cleaning phase:\n",
        "\n",
        "- **Missing Values `(NaN)` and Inaccurate Laps**: The `info()` output confirms that the time-based columns (`LapTime`, `Sector1Time`, etc.) contain significantly fewer non-null values than the total entries. In F1 data, these `NaN` values, along with non-representative lap times (e.g., pit-in/pit-out, slow laps), must be filtered out. We will primarily utilize the `IsAccurate` flag to retain only the fastest, most reliable qualifying laps for analysis.\n",
        "\n",
        "- **Time Column Conversion (Completed)**: The initial step of converting the time columns from *Timedelta* objects to *float* (seconds) has been successfully executed. This is fundamental for enabling the numerical calculations required for the *Ideal Lap* metric.\n",
        "\n",
        "- **Categorical Data Optimization**: The `Driver` and `Circuit` columns, which are essential categorical keys for grouping and calculating the *Ideal Lap*, are currently stored as the inefficient `object` data type. To optimize memory usage and improve processing speed, these columns will be explicitly converted to the `category` data type.\n",
        "\n",
        "- **Column Name Standardization**: Following standard data cleaning best practices, the column names will be standardized to the `snake_case` format. This improves code readability and consistency throughout the project."
      ],
      "metadata": {
        "id": "1eilHlMbXRLO"
      }
    },
    {
      "cell_type": "markdown",
      "source": [
        "## 2. Data Cleaning & Preparation\n",
        "\n",
        "This section focuses on transforming the raw aggregated data into a reliable and optimized dataset suitable for the *Ideal Lap* analysis. We will systematically address data quality issues, including inaccuracies, missing values, timing inconsistencies, and ensure efficient data types.\n",
        "\n",
        "### 2.1 Data Integrity and Initial Filtering\n",
        "\n",
        "We begin by removing redundant rows and eliminating inaccurate or incomplete laps, as indicated by the `IsAccurate` flag and `NaN` values in timing columns."
      ],
      "metadata": {
        "id": "Kd3zryvDMEYO"
      }
    },
    {
      "cell_type": "code",
      "source": [
        "# Create a copy for cleaning operations to maintain the original aggregated data (df_sec)\n",
        "df_clean = df_sec.copy()\n",
        "\n",
        "# Remove duplicated rows\n",
        "print(\"Rows before removing duplicates:\", df_clean.shape[0])\n",
        "print(\"Number of duplicate rows found:\", df_clean.duplicated().sum())\n",
        "df_clean.drop_duplicates(inplace=True)\n",
        "print(\"Rows after removing duplicates:\", df_clean.shape[0])"
      ],
      "metadata": {
        "id": "t86i1dKeNjQ2"
      },
      "execution_count": null,
      "outputs": []
    },
    {
      "cell_type": "markdown",
      "source": [
        "#### Filtering by Accuracy and Completeness\n",
        "\n",
        "Only laps marked as accurate (`IsAccurate=True`) are retained, as they represent official, non-interrupted flying laps. We then remove the `IsAccurate` column as its purpose has been served."
      ],
      "metadata": {
        "id": "9fiakGeJfJjk"
      }
    },
    {
      "cell_type": "code",
      "source": [
        "# Retain only laps marked as accurate\n",
        "df_clean = df_clean[df_clean['IsAccurate']].copy()\n",
        "\n",
        "# Remove the 'IsAccurate' column as it is no longer necessary\n",
        "df_clean.drop(columns=['IsAccurate'], inplace=True)\n",
        "\n",
        "print(\"Data sample after filtering for accurate laps:\")\n",
        "display(df_clean.head())"
      ],
      "metadata": {
        "id": "2rTe7P1dPP7A"
      },
      "execution_count": null,
      "outputs": []
    },
    {
      "cell_type": "markdown",
      "source": [
        "#### Handling Missing Time Values\n",
        "\n",
        "We verify the presence of any remaining `NaN` values in the timing columns, which can occur despite the `IsAccurate` filter. These rows are subsequently dropped to ensure all data points used have complete timing records across all three sectors."
      ],
      "metadata": {
        "id": "ZZNSAKETflc5"
      }
    },
    {
      "cell_type": "code",
      "source": [
        "# Check for any remaining missing values\n",
        "print(\"Missing values per column:\")\n",
        "display(df_clean.isna().sum())"
      ],
      "metadata": {
        "id": "PJriveGDMK07"
      },
      "execution_count": null,
      "outputs": []
    },
    {
      "cell_type": "code",
      "source": [
        "# Remove remaining rows with missing time values\n",
        "df_clean.dropna(subset=['LapTime', 'Sector1Time', 'Sector2Time', 'Sector3Time'], inplace=True)\n",
        "df_clean.reset_index(drop=True, inplace=True)\n",
        "print(df_clean.info())"
      ],
      "metadata": {
        "id": "jD1e1uGjPW3L"
      },
      "execution_count": null,
      "outputs": []
    },
    {
      "cell_type": "markdown",
      "source": [
        "### 2.2 Standardizing Column Names and Data Types\n",
        "To improve code readability and memory efficiency, we standardize column naming to snake_case and optimize categorical columns.\n",
        "\n",
        "#### Column Name Standardization\n",
        "\n",
        "We adopt the `snake_case` convention for all timing columns, ensuring consistency with Python naming standards."
      ],
      "metadata": {
        "id": "yBRKlkxZgFgW"
      }
    },
    {
      "cell_type": "code",
      "source": [
        "# Standardize column names\n",
        "df_clean.rename(columns={\n",
        "    'LapTime': 'lap_time',\n",
        "    'Sector1Time': 'sector1_time',\n",
        "    'Sector2Time': 'sector2_time',\n",
        "    'Sector3Time': 'sector3_time',\n",
        "    'Driver': 'driver',\n",
        "    'Circuit': 'circuit',\n",
        "    'Year': 'year'\n",
        "}, inplace=True)\n",
        "\n",
        "# Verify changes\n",
        "print(\"Updated column names:\")\n",
        "print(df_clean.columns)"
      ],
      "metadata": {
        "id": "Sgk07Vq-ZyQ7"
      },
      "execution_count": null,
      "outputs": []
    },
    {
      "cell_type": "markdown",
      "source": [
        "#### Categorical Data Optimization\n",
        "\n",
        "The driver and circuit columns are converted from the memory-intensive object type to the more efficient category type, which is ideal for fixed sets of strings used for grouping and plotting."
      ],
      "metadata": {
        "id": "cah9f1e9gmBc"
      }
    },
    {
      "cell_type": "code",
      "source": [
        "# Identify potential categorical columns\n",
        "cols_cat = df_clean.select_dtypes(include='object').nunique().sort_values().index.tolist()\n",
        "print(f\"Columns converted to category: {cols_cat if cols_cat else 'None found'}\")\n",
        "print(\"\\n\")\n",
        "\n",
        "# Apply category conversion\n",
        "df_clean[cols_cat] = df_clean[cols_cat].astype('category')\n",
        "df_clean.info()"
      ],
      "metadata": {
        "id": "PYOHc3ypZAfc"
      },
      "execution_count": null,
      "outputs": []
    },
    {
      "cell_type": "markdown",
      "source": [
        "### 2.3 Timing Consistency Check\n",
        "While filtering for accuracy minimizes errors, a final check is performed to ensure that the sum of the three sector times is logically consistent with the total `lap_time`. A tolerance of `±0.1` seconds is used to account for minor API timing precision differences."
      ],
      "metadata": {
        "id": "574iZvcYhNQU"
      }
    },
    {
      "cell_type": "code",
      "source": [
        "# Check for negative or zero times (Expected to be clean after initial describe check)\n",
        "# This step is commented out as initial checks confirmed positive minimum values.\n",
        "'''\n",
        "print(\"Laps with lap_time <= 0:\")\n",
        "display(df_clean[df_clean['lap_time'] <= 0])\n",
        "print(\"Sectors with time <= 0:\")\n",
        "display(df_clean[(df_clean['sector1_time'] <= 0) |\n",
        "                 (df_clean['sector2_time'] <= 0) |\n",
        "                 (df_clean['sector3_time'] <= 0)])\n",
        "'''"
      ],
      "metadata": {
        "id": "0mQp19NGdQUx",
        "collapsed": true
      },
      "execution_count": null,
      "outputs": []
    },
    {
      "cell_type": "code",
      "source": [
        "# Calculate the sum of sectors\n",
        "df_clean['sectors_sum'] = df_clean['sector1_time'] + df_clean['sector2_time'] + df_clean['sector3_time']\n",
        "\n",
        "# Identify rows where the difference between LapTime and the sum of sectors exceeds the 0.1s tolerance\n",
        "inconsistent = df_clean[abs(df_clean['lap_time'] - df_clean['sectors_sum']) > 0.1]  # tolerância 0.1s\n",
        "print(\"Inconsistent Laps (LapTime vs. Sum of Sectors > 0.1s):\")\n",
        "display(inconsistent)"
      ],
      "metadata": {
        "id": "gY-51zz5d40w"
      },
      "execution_count": null,
      "outputs": []
    },
    {
      "cell_type": "markdown",
      "source": [
        "> **Observation**: No inconsistencies greater than 0.1s were detected between recorded lap_time and the sum of sector times. This validates the internal synchronization of the FastF1 timing system and confirms that sector-level data can be safely used for Ideal Lap reconstruction."
      ],
      "metadata": {
        "id": "kY3zzknABEbn"
      }
    },
    {
      "cell_type": "markdown",
      "source": [
        "### 2.4 Final Data State\n",
        "The data is now clean, optimized, and ready for the Exploratory Data Analysis (EDA) and the core calculation of the Ideal Lap."
      ],
      "metadata": {
        "id": "LabY49iDiZq2"
      }
    },
    {
      "cell_type": "code",
      "source": [
        "# Drop the temporary 'sectors_sum' column before proceeding\n",
        "df_clean.drop(columns=['sectors_sum'], inplace=True)\n",
        "\n",
        "# Final check of descriptive statistics on the cleaned dataset\n",
        "print(\"Descriptive Statistics on the Cleaned Dataset:\")\n",
        "display(df_clean.describe())"
      ],
      "metadata": {
        "id": "KWgtxAwurLz2"
      },
      "execution_count": null,
      "outputs": []
    },
    {
      "cell_type": "markdown",
      "source": [
        "> With a fully consistent and optimized dataset, we can now explore sector-based dynamics and proceed to the analytical construction of the Ideal Lap in the next section."
      ],
      "metadata": {
        "id": "wp7QQRNeBOaS"
      }
    },
    {
      "cell_type": "markdown",
      "source": [
        "## 3. Exploratory Data Analysis (EDA)\n",
        "\n",
        "### 3.1 Global Lap Time Distribution\n",
        "\n",
        "Before analyzing performance circuit by circuit, we start with a global overview of the entire dataset. This serves as a vital **sanity check** to ensure the recorded lap times are within plausible and expected values for modern Formula 1 circuits.\n"
      ],
      "metadata": {
        "id": "ya3j6ir0siPj"
      }
    },
    {
      "cell_type": "code",
      "source": [
        "# Create Histogram with KDE\n",
        "plt.figure(figsize=(12,6))\n",
        "ax = sns.histplot(df_clean['lap_time'], bins=50, kde=True, color='sandybrown')\n",
        "# Setting the KDE line color\n",
        "ax.lines[0].set_color('black')\n",
        "plt.title(\"Overall Lap Time Distribution (Global View)\", fontsize=14, weight='bold')\n",
        "plt.xlabel(\"Lap Time (Seconds)\")\n",
        "plt.ylabel(\"Frequency\")\n",
        "plt.show()\n",
        "\n",
        "# Create Boxplot\n",
        "plt.figure(figsize=(12,6))\n",
        "sns.boxplot(x=df_clean['lap_time'], color='sandybrown')\n",
        "plt.title(\"Boxplot of Lap Times (Global View)\", fontsize=14, weight='bold')\n",
        "plt.xlabel(\"Lap Time (Seconds)\")\n",
        "plt.show()"
      ],
      "metadata": {
        "id": "67-BJF5sqetF"
      },
      "execution_count": null,
      "outputs": []
    },
    {
      "cell_type": "markdown",
      "source": [
        "#### Observations on Global Distribution\n",
        "\n",
        "-   **Typical Range:** The majority of recorded laps fall between **60 and 90 seconds**, which is consistent with the standard length of contemporary Formula 1 tracks during a qualifying session.\n",
        "-   **Central Tendency:** The distribution's center (median, visible in the boxplot) is situated near the **85–90 second** range.\n",
        "-   **Right Skew and Outliers:** As anticipated, the distribution is **right-skewed**, reflecting the presence of **outliers above 140 seconds**. These longer times correspond to preparatory laps, laps affected by yellow/red flags, or pit entry/exit laps, which remain in the \"accurate\" filtered set if they are not `NaN` but are much slower than flying laps.\n",
        "\n",
        "This preliminary inspection validates the consistency of the cleaned data, allowing us to proceed confidently with the **circuit-specific and sector-based analysis**, which is the primary objective of this project.\n"
      ],
      "metadata": {
        "id": "y9y0OcGssxkk"
      }
    },
    {
      "cell_type": "markdown",
      "source": [
        "### 3.2 Circuit-by-Circuit Analysis\n",
        "\n",
        "In this step, we analyze the **minimum and median lap times per circuit**. The goal is to compare the performance recorded at each event and establish a baseline for the core calculation: the *Ideal Lap* (the sum of the best sectors).\n"
      ],
      "metadata": {
        "id": "SeTsbBw4x0Vm"
      }
    },
    {
      "cell_type": "code",
      "source": [
        "# Calculate minimum, median, and maximum lap times grouped by circuit\n",
        "circuit_stats = df_clean.groupby('circuit', observed=True)['lap_time'].agg(['min','median','max']).reset_index()\n",
        "\n",
        "# Sort by the minimum time (fastest)\n",
        "circuit_stats = circuit_stats.sort_values(by='min').reset_index(drop=True)\n",
        "\n",
        "print(\"Top 10 Fastest Circuits by Minimum Lap Time:\")\n",
        "display(circuit_stats.head(10))"
      ],
      "metadata": {
        "id": "PkYdMMJjx3Xi",
        "collapsed": true
      },
      "execution_count": null,
      "outputs": []
    },
    {
      "cell_type": "code",
      "source": [
        "# Visualization: Boxplot by Circuit\n",
        "plt.figure(figsize=(14,7))\n",
        "sns.boxplot(data=df_clean, x='circuit', y='lap_time', color='sandybrown')\n",
        "plt.xticks(rotation=90)\n",
        "plt.title(\"Distribution of Lap Times per Circuit (2021 Qualifying)\", fontsize=14, fontweight='bold')\n",
        "plt.ylabel(\"Lap Time (Seconds)\")\n",
        "plt.xlabel(\"Circuit\")\n",
        "plt.show()"
      ],
      "metadata": {
        "id": "kRdEke90x470"
      },
      "execution_count": null,
      "outputs": []
    },
    {
      "cell_type": "markdown",
      "source": [
        "#### Observations on Circuit Performance\n",
        "\n",
        "-   **Track Length vs. Time:** The dispersion of lap times clearly shows differences based on track length:\n",
        "    -   Shorter tracks (e.g., Red Bull Ring) feature minimum times well below 70 seconds.\n",
        "    -   Longer, demanding circuits (e.g., Spa-Francorchamps) easily surpass 100 seconds.\n",
        "-   **Performance Metrics:** The `median` lap time reflects the typical competitive pace of each circuit, while the `min` lap time indicates the absolute fastest lap achieved during the session.\n",
        "-   **Ideal Lap Justification:** This visualization confirms that lap times vary logically according to the circuit layout. However, to fairly assess maximum performance, we must calculate the *Ideal Lap* for each circuit by summing the **best sectors**, as different drivers may specialize in distinct track sectors.\n"
      ],
      "metadata": {
        "id": "eCOWJj77x_cF"
      }
    },
    {
      "cell_type": "markdown",
      "source": [
        "### 3.3 Ideal Lap Calculation and Visualization\n",
        "\n",
        "The objective of this section is to calculate the **Ideal Lap** for every circuit.\n",
        "\n",
        "-   For each circuit, we sum the best times recorded for **Sector 1, Sector 2, and Sector 3** across all drivers.\n",
        "-   This sum represents the theoretical perfect lap, should a single driver combine all optimal sector performances.\n",
        "-   We also include the **Best Real Lap Time** for a direct comparison.\n"
      ],
      "metadata": {
        "id": "o0oMWu9n0nlO"
      }
    },
    {
      "cell_type": "code",
      "source": [
        "# Calculate the minimum sector times per circuit\n",
        "min_sectors = df_clean.groupby('circuit', observed=True)[['sector1_time','sector2_time','sector3_time']].min().reset_index()\n",
        "\n",
        "# Calculate the Ideal Lap as the sum of the minimum sectors\n",
        "min_sectors['ideal_lap'] = min_sectors['sector1_time'] + min_sectors['sector2_time'] + min_sectors['sector3_time']\n",
        "\n",
        "# Add the actual best real lap time per circuit\n",
        "best_lap = df_clean.groupby('circuit', observed=True)['lap_time'].min().reset_index()\n",
        "ideal_vs_real = pd.merge(min_sectors, best_lap, on='circuit')\n",
        "ideal_vs_real.rename(columns={'lap_time':'best_real_lap'}, inplace=True)\n",
        "\n",
        "# Display results\n",
        "print(\"Comparison of Ideal vs. Best Real Lap (Top 10 Fastest Ideal Laps):\")\n",
        "display(ideal_vs_real.sort_values('ideal_lap').head(10))"
      ],
      "metadata": {
        "id": "zXRF-crT0pJG"
      },
      "execution_count": null,
      "outputs": []
    },
    {
      "cell_type": "code",
      "source": [
        "# Comparative Visualization: Ideal Lap vs Best Real Lap\n",
        "plt.figure(figsize=(14,7))\n",
        "sns.scatterplot(data=ideal_vs_real, x='circuit', y='best_real_lap', label='Best Real Lap', color='black', s=100)\n",
        "sns.scatterplot(data=ideal_vs_real, x='circuit', y='ideal_lap', label='Ideal Lap', color='sandybrown', s=100)\n",
        "plt.xticks(rotation=90)\n",
        "plt.ylabel(\"Lap Time (Seconds)\")\n",
        "plt.xlabel(\"Circuit\")\n",
        "plt.title(\"Comparison: Best Real Lap vs. Ideal Lap per Circuit (2021 Qualifying)\", fontsize=14, fontweight='bold')\n",
        "plt.legend()\n",
        "plt.show()"
      ],
      "metadata": {
        "id": "pyonW7w60qf8"
      },
      "execution_count": null,
      "outputs": []
    },
    {
      "cell_type": "markdown",
      "source": [
        "#### Observations on Ideal vs. Real Performance\n",
        "\n",
        "-   The **Ideal Lap (blue)** is, as expected, always equal to or faster than the **Best Real Lap (red)**.\n",
        "-   The distance between the two points indicates the potential for sector-by-sector optimization: a larger gap signifies that different drivers or different laps contributed the fastest times to the individual sectors.\n",
        "-   This calculation provides a more precise view of the maximum theoretical performance possible at each circuit, isolating the performance potential from single-lap execution errors or inconsistencies.\n"
      ],
      "metadata": {
        "id": "sa-AApXH0sHT"
      }
    },
    {
      "cell_type": "markdown",
      "source": [
        "### 3.4 Ideal Lap vs Best Real Lap Comparison\n",
        "\n",
        "Here we quantify the difference between the **Ideal Lap** and the **Best Real Lap** in both seconds and percentage terms. This metric highlights which circuits have the highest potential for time optimization across sectors.\n"
      ],
      "metadata": {
        "id": "IYp88Oha1-cb"
      }
    },
    {
      "cell_type": "code",
      "source": [
        "# Calculate difference in seconds (Ideal Lap - Best Real Lap)\n",
        "ideal_vs_real['diff_seconds'] = (ideal_vs_real['ideal_lap'] - ideal_vs_real['best_real_lap']).abs()\n",
        "\n",
        "# Calculate percentage difference relative to the Best Real Lap\n",
        "ideal_vs_real['diff_percent'] = (ideal_vs_real['diff_seconds'] / ideal_vs_real['best_real_lap']) * 100\n",
        "\n",
        "# Sort by the largest optimization potential\n",
        "ideal_vs_real_sorted = ideal_vs_real.sort_values('diff_seconds', ascending=False).reset_index(drop=True)\n",
        "\n",
        "# Display top 10 circuits with the largest difference (highest optimization potential)\n",
        "print(\"Top 10 Circuits with Highest Optimization Potential:\")\n",
        "display(ideal_vs_real_sorted.head(10))"
      ],
      "metadata": {
        "id": "tIpMyTXc2BgG",
        "collapsed": true
      },
      "execution_count": null,
      "outputs": []
    },
    {
      "cell_type": "code",
      "source": [
        "# Visualization: time difference per circuit\n",
        "plt.figure(figsize=(14,7))\n",
        "barplot = sns.barplot(data=ideal_vs_real_sorted, x='circuit', y='diff_seconds', hue='diff_percent', dodge=False, palette='gist_heat_r', legend=False, order=ideal_vs_real_sorted['circuit'])\n",
        "plt.xticks(rotation=90)\n",
        "plt.ylabel(\"Time Difference (seconds)\")\n",
        "plt.xlabel(\"Circuit\")\n",
        "plt.title(\"Ideal vs Real Lap Difference by Circuit\", fontsize=14, fontweight='bold')\n",
        "\n",
        "# Add value labels\n",
        "for container in barplot.containers:\n",
        "    barplot.bar_label(container, fmt=\"%.3f\", label_type='edge', fontsize=9)\n",
        "\n",
        "plt.tight_layout()\n",
        "plt.show()"
      ],
      "metadata": {
        "id": "7wwXUCAa2Cvg"
      },
      "execution_count": null,
      "outputs": []
    },
    {
      "cell_type": "markdown",
      "source": [
        "#### Observations on Optimization Potential\n",
        "\n",
        "-   Circuits with the **largest difference** indicate that the best sector times were achieved by different drivers or on different laps. This suggests a higher collective maximum potential that no single driver was able to fully realize on one flying lap.\n",
        "-   Low values indicate that the best real lap was already very close to the *Ideal Lap*, meaning marginal gains would be difficult to achieve.\n",
        "-   This metric is crucial for focusing analysis and development efforts on circuits where the gap between real and theoretical maximum performance is largest.\n"
      ],
      "metadata": {
        "id": "E6KY10wV2ExU"
      }
    },
    {
      "cell_type": "markdown",
      "source": [
        "### 3.5 Sector-Specific Difference Analysis\n",
        "\n",
        "To understand *where* the optimization potential lies, we calculate the difference between the fastest sectors of the Ideal Lap and the corresponding sectors of the single **Best Real Lap**. This helps localize performance gaps.\n"
      ],
      "metadata": {
        "id": "rWmntQ7x0ONO"
      }
    },
    {
      "cell_type": "code",
      "source": [
        "# Calculate the Ideal Lap sectors (minimum of each sector per circuit)\n",
        "sector_min = df_clean.groupby('circuit', observed=True)[['sector1_time','sector2_time','sector3_time']].min().reset_index()\n",
        "\n",
        "# Find the sectors for the single best real lap per circuit\n",
        "best_lap_idx = df_clean.groupby('circuit', observed=True)['lap_time'].idxmin()\n",
        "\n",
        "# Retrieve the sector times corresponding to the fastest overall lap\n",
        "best_laps = df_clean.loc[best_lap_idx, ['circuit','sector1_time','sector2_time','sector3_time']].reset_index(drop=True)\n",
        "\n",
        "# Calculate Difference: Ideal Lap Sector - Best Real Lap Sector\n",
        "sector_diff = sector_min.copy()\n",
        "\n",
        "# Note: Since Ideal Lap sectors are minimal, these differences will always be <= 0\n",
        "sector_diff['sector1_diff'] = sector_min['sector1_time'] - best_laps['sector1_time']\n",
        "sector_diff['sector2_diff'] = sector_min['sector2_time'] - best_laps['sector2_time']\n",
        "sector_diff['sector3_diff'] = sector_min['sector3_time'] - best_laps['sector3_time']\n",
        "\n",
        "# Prepare data for Heatmap (set circuit as index)\n",
        "heatmap_data = sector_diff.set_index('circuit')[['sector1_diff','sector2_diff','sector3_diff']]\n",
        "\n",
        "plt.figure(figsize=(10,6))\n",
        "\n",
        "sns.heatmap(heatmap_data.abs(), annot=True, fmt=\".3f\", cmap= 'gist_heat_r', cbar_kws={'label': 'Gap (s)'})\n",
        "plt.title(\"Sector-Level Ideal vs Real Lap Gaps by Circuit\")\n",
        "plt.xlabel(\"Sector\")\n",
        "plt.ylabel(\"Circuit\")\n",
        "plt.show()"
      ],
      "metadata": {
        "id": "liAcpjPG4OGk"
      },
      "execution_count": null,
      "outputs": []
    },
    {
      "cell_type": "markdown",
      "source": [
        "### 3.6 Driver Contribution to Ideal Lap\n",
        "\n",
        "Finally, we identify which drivers contributed the fastest time to **Sector 1, Sector 2, or Sector 3** across the entire season. This reveals the sectorial strengths of individual drivers.\n"
      ],
      "metadata": {
        "id": "wHzW49y61Xer"
      }
    },
    {
      "cell_type": "code",
      "source": [
        "# Function to identify the driver who set the minimum sector time per circuit\n",
        "def sector_contributors(df, sector):\n",
        "    # Find the index of the row with the minimum sector time, grouped by circuit\n",
        "    idx = df.groupby('circuit', observed=True)[sector].idxmin()\n",
        "    return df.loc[idx, ['circuit', 'driver']]\n",
        "\n",
        "# Get the driver who contributed the minimum sector time in each circuit\n",
        "s1_contrib = sector_contributors(df_clean, 'sector1_time')\n",
        "s2_contrib = sector_contributors(df_clean, 'sector2_time')\n",
        "s3_contrib = sector_contributors(df_clean, 'sector3_time')\n",
        "\n",
        "\n",
        "# Count contributions per driver for each sector\n",
        "s1_count = s1_contrib['driver'].value_counts().reset_index()\n",
        "s1_count.columns = ['driver','sector1_count']\n",
        "\n",
        "s2_count = s2_contrib['driver'].value_counts().reset_index()\n",
        "s2_count.columns = ['driver','sector2_count']\n",
        "\n",
        "s3_count = s3_contrib['driver'].value_counts().reset_index()\n",
        "s3_count.columns = ['driver','sector3_count']\n",
        "\n",
        "# Convert driver to string for merging (avoids category issues)\n",
        "s1_count['driver'] = s1_count['driver'].astype(str)\n",
        "s2_count['driver'] = s2_count['driver'].astype(str)\n",
        "s3_count['driver'] = s3_count['driver'].astype(str)\n",
        "\n",
        "# Combine all sector contribution counts\n",
        "pilot_sector_summary = (s1_count.merge(s2_count, on='driver', how='outer').merge(s3_count, on='driver', how='outer').fillna(0))\n",
        "\n",
        "# Ensure counters are integers\n",
        "pilot_sector_summary[['sector1_count','sector2_count','sector3_count']] = pilot_sector_summary[['sector1_count','sector2_count','sector3_count']].astype(int)\n",
        "\n",
        "# Add column for total contributions to the Ideal Lap\n",
        "pilot_sector_summary['total_contrib'] = pilot_sector_summary['sector1_count'] + pilot_sector_summary['sector2_count'] + pilot_sector_summary['sector3_count']\n",
        "\n",
        "# Sort by total contributions (overall most dominant)\n",
        "pilot_sector_summary = pilot_sector_summary.sort_values('total_contrib', ascending=False).reset_index(drop=True)\n",
        "\n",
        "print(\"Top 10 Driver Ranking by Sector Contribution (2021 Season Ideal Laps):\")\n",
        "display(pilot_sector_summary.head(10))"
      ],
      "metadata": {
        "id": "XEu8ZMuL4Ros"
      },
      "execution_count": null,
      "outputs": []
    },
    {
      "cell_type": "markdown",
      "source": [
        "## 4. Conclusion and Key Insights\n",
        "\n",
        "This analysis successfully used `FastF1` data to calculate the theoretical **Ideal Lap** for every circuit during the `2021` Qualifying season, providing a benchmark for maximum potential performance.\n",
        "\n",
        "### 4.1 Key Findings\n",
        "\n",
        "1.  **Ideal Lap as Performance Ceiling:** The comparison plots consistently demonstrated that the `Ideal Lap` is always faster (lower time) than the `Best Real Lap`. This confirms its role as a valid theoretical performance ceiling, providing a truer measure of the combined potential of the cars and drivers at any given circuit.\n",
        "2.  **Optimization Potential:** The `Difference Analysis` (Section 3.4) highlighted specific circuits, such as **Spa-Francorchamps** and **Emilia-Romagna**, as having the largest `Ideal Lap` gap. This suggests that optimal performance requires combining different driving styles or strategies across sectors, which no single driver executed perfectly on one lap.\n",
        "3.  **Sector-Level Gaps:** The `Heatmap` (Section 3.5) provided granular insight, showing which sectors contribute most to the gap. For circuits with high overall optimization potential, the largest values in the heatmap pinpoint the exact sector (e.g., Sector 1 or 2) where the best real lap was significantly slower than the theoretical fastest sector time. This directs performance development focus.\n",
        "4.  **Driver Dominance:** The `Driver Contribution Ranking` (Section 3.6) effectively measured the sectorial mastery of each driver over the entire season. The leader in this ranking demonstrated the highest frequency of setting the benchmark time across all three sectors, making them the most dominant performer at the sector level during the `2021` Qualifying sessions.\n",
        "\n",
        "### 4.2 Final Remarks\n",
        "\n",
        "The *Ideal Lap* metric moves beyond simple overall lap times to offer a sophisticated view of potential performance, crucial for race strategy and engineering optimization. The clean, structured data pipeline established in this project ensures the reliability of these calculated insights. Furthermore, while this analysis provides macro-level sector insights, utilizing micro-sector data (detailed timing points within each sector) would offer even finer granularity, pinpointing the exact corners or straight-line segments responsible for the observed performance losses.\n"
      ],
      "metadata": {
        "id": "NY2rfoa04dvH"
      }
    }
  ]
}